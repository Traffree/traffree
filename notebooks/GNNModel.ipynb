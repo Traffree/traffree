{
  "nbformat": 4,
  "nbformat_minor": 0,
  "metadata": {
    "colab": {
      "name": "GNNModel.ipynb",
      "provenance": [],
      "collapsed_sections": []
    },
    "kernelspec": {
      "name": "python3",
      "display_name": "Python 3"
    },
    "language_info": {
      "name": "python"
    },
    "accelerator": "GPU"
  },
  "cells": [
    {
      "cell_type": "code",
      "metadata": {
        "id": "dgOPTQaaTk57",
        "colab": {
          "base_uri": "https://localhost:8080/"
        },
        "outputId": "09887cba-95fa-47d2-bd7b-43c5f847e95a"
      },
      "source": [
        "!pwd\n",
        "!ls"
      ],
      "execution_count": 1,
      "outputs": [
        {
          "output_type": "stream",
          "text": [
            "/content\n",
            "sample_data\n"
          ],
          "name": "stdout"
        }
      ]
    },
    {
      "cell_type": "code",
      "metadata": {
        "colab": {
          "base_uri": "https://localhost:8080/"
        },
        "id": "0c12mkRSTwxY",
        "outputId": "e812c7d5-a376-46c0-ed4b-f635efee0b7f"
      },
      "source": [
        "!git clone \"https://github.com/Traffree/traffree.git\""
      ],
      "execution_count": 2,
      "outputs": [
        {
          "output_type": "stream",
          "text": [
            "Cloning into 'traffree'...\n",
            "remote: Enumerating objects: 1186, done.\u001b[K\n",
            "remote: Counting objects: 100% (1186/1186), done.\u001b[K\n",
            "remote: Compressing objects: 100% (545/545), done.\u001b[K\n",
            "remote: Total 1186 (delta 887), reused 916 (delta 628), pack-reused 0\u001b[K\n",
            "Receiving objects: 100% (1186/1186), 31.67 MiB | 26.67 MiB/s, done.\n",
            "Resolving deltas: 100% (887/887), done.\n"
          ],
          "name": "stdout"
        }
      ]
    },
    {
      "cell_type": "code",
      "metadata": {
        "id": "yCKS11-NT4b0",
        "colab": {
          "base_uri": "https://localhost:8080/"
        },
        "outputId": "9e379e57-8203-4f17-837e-483364b23df4"
      },
      "source": [
        "import os\n",
        "\n",
        "!add-apt-repository ppa:sumo/stable -y\n",
        "!apt-get update -y\n",
        "!apt-get install sumo sumo-tools sumo-doc\n",
        "\n",
        "!pip install traci\n",
        "!pip install neat-python\n",
        "\n",
        "os.environ['SUMO_HOME'] = \"/usr/share/sumo/\""
      ],
      "execution_count": 3,
      "outputs": [
        {
          "output_type": "stream",
          "text": [
            "\r0% [Working]\r            \rGet:1 http://security.ubuntu.com/ubuntu bionic-security InRelease [88.7 kB]\n",
            "\r0% [Connecting to archive.ubuntu.com (91.189.88.152)] [1 InRelease 14.2 kB/88.7\r                                                                               \rGet:2 https://cloud.r-project.org/bin/linux/ubuntu bionic-cran40/ InRelease [3,626 B]\n",
            "\r0% [Connecting to archive.ubuntu.com (91.189.88.152)] [1 InRelease 14.2 kB/88.7\r0% [Connecting to archive.ubuntu.com (91.189.88.152)] [1 InRelease 34.4 kB/88.7\r0% [2 InRelease gpgv 3,626 B] [Connecting to archive.ubuntu.com (91.189.88.152)\r0% [2 InRelease gpgv 3,626 B] [Waiting for headers] [Waiting for headers] [Wait\r                                                                               \rIgn:3 https://developer.download.nvidia.com/compute/cuda/repos/ubuntu1804/x86_64  InRelease\n",
            "\r                                                                               \r0% [2 InRelease gpgv 3,626 B] [Waiting for headers] [Waiting for headers]\r                                                                         \rGet:4 http://ppa.launchpad.net/c2d4u.team/c2d4u4.0+/ubuntu bionic InRelease [15.9 kB]\n",
            "\r0% [2 InRelease gpgv 3,626 B] [Waiting for headers] [4 InRelease 2,572 B/15.9 k\r                                                                               \rHit:5 http://archive.ubuntu.com/ubuntu bionic InRelease\n",
            "\r0% [2 InRelease gpgv 3,626 B] [Waiting for headers] [4 InRelease 8,364 B/15.9 k\r                                                                               \rIgn:6 https://developer.download.nvidia.com/compute/machine-learning/repos/ubuntu1804/x86_64  InRelease\n",
            "\r0% [2 InRelease gpgv 3,626 B] [Waiting for headers] [4 InRelease 14.2 kB/15.9 k\r                                                                               \rHit:7 https://developer.download.nvidia.com/compute/cuda/repos/ubuntu1804/x86_64  Release\n",
            "\r0% [2 InRelease gpgv 3,626 B] [Waiting for headers] [4 InRelease 14.2 kB/15.9 k\r                                                                               \rHit:8 https://developer.download.nvidia.com/compute/machine-learning/repos/ubuntu1804/x86_64  Release\n",
            "Get:9 http://archive.ubuntu.com/ubuntu bionic-updates InRelease [88.7 kB]\n",
            "Hit:10 http://ppa.launchpad.net/cran/libgit2/ubuntu bionic InRelease\n",
            "Get:11 http://archive.ubuntu.com/ubuntu bionic-backports InRelease [74.6 kB]\n",
            "Hit:12 http://ppa.launchpad.net/deadsnakes/ppa/ubuntu bionic InRelease\n",
            "Get:13 http://security.ubuntu.com/ubuntu bionic-security/universe amd64 Packages [1,418 kB]\n",
            "Hit:14 http://ppa.launchpad.net/graphics-drivers/ppa/ubuntu bionic InRelease\n",
            "Get:15 http://security.ubuntu.com/ubuntu bionic-security/main amd64 Packages [2,221 kB]\n",
            "Get:16 http://ppa.launchpad.net/sumo/stable/ubuntu bionic InRelease [15.4 kB]\n",
            "Get:19 http://ppa.launchpad.net/c2d4u.team/c2d4u4.0+/ubuntu bionic/main Sources [1,780 kB]\n",
            "Get:20 http://archive.ubuntu.com/ubuntu bionic-updates/universe amd64 Packages [2,188 kB]\n",
            "Get:21 http://archive.ubuntu.com/ubuntu bionic-updates/main amd64 Packages [2,658 kB]\n",
            "Get:22 http://ppa.launchpad.net/c2d4u.team/c2d4u4.0+/ubuntu bionic/main amd64 Packages [911 kB]\n",
            "Get:23 http://ppa.launchpad.net/sumo/stable/ubuntu bionic/main amd64 Packages [1,156 B]\n",
            "Fetched 11.5 MB in 3s (3,900 kB/s)\n",
            "Reading package lists... Done\n",
            "Hit:1 https://cloud.r-project.org/bin/linux/ubuntu bionic-cran40/ InRelease\n",
            "Hit:2 http://security.ubuntu.com/ubuntu bionic-security InRelease\n",
            "Ign:3 https://developer.download.nvidia.com/compute/cuda/repos/ubuntu1804/x86_64  InRelease\n",
            "Hit:4 http://archive.ubuntu.com/ubuntu bionic InRelease\n",
            "Hit:5 http://ppa.launchpad.net/c2d4u.team/c2d4u4.0+/ubuntu bionic InRelease\n",
            "Ign:6 https://developer.download.nvidia.com/compute/machine-learning/repos/ubuntu1804/x86_64  InRelease\n",
            "Hit:7 https://developer.download.nvidia.com/compute/cuda/repos/ubuntu1804/x86_64  Release\n",
            "Hit:8 https://developer.download.nvidia.com/compute/machine-learning/repos/ubuntu1804/x86_64  Release\n",
            "Hit:9 http://archive.ubuntu.com/ubuntu bionic-updates InRelease\n",
            "Hit:10 http://archive.ubuntu.com/ubuntu bionic-backports InRelease\n",
            "Hit:11 http://ppa.launchpad.net/cran/libgit2/ubuntu bionic InRelease\n",
            "Hit:12 http://ppa.launchpad.net/deadsnakes/ppa/ubuntu bionic InRelease\n",
            "Hit:13 http://ppa.launchpad.net/graphics-drivers/ppa/ubuntu bionic InRelease\n",
            "Hit:14 http://ppa.launchpad.net/sumo/stable/ubuntu bionic InRelease\n",
            "Reading package lists... Done\n",
            "Reading package lists... Done\n",
            "Building dependency tree       \n",
            "Reading state information... Done\n",
            "The following additional packages will be installed:\n",
            "  binfmt-support fastjar jarwrapper javascript-common libfox-1.6-0\n",
            "  libjs-jquery libjs-openlayers libjs-underscore libspatialindex-c4v5\n",
            "  libspatialindex-dev libspatialindex4v5 python3-pkg-resources python3-pyproj\n",
            "  python3-rtree\n",
            "Suggested packages:\n",
            "  apache2 | lighttpd | httpd python3-setuptools\n",
            "The following NEW packages will be installed:\n",
            "  binfmt-support fastjar jarwrapper javascript-common libfox-1.6-0\n",
            "  libjs-jquery libjs-openlayers libjs-underscore libspatialindex-c4v5\n",
            "  libspatialindex-dev libspatialindex4v5 python3-pkg-resources python3-pyproj\n",
            "  python3-rtree sumo sumo-doc sumo-tools\n",
            "0 upgraded, 17 newly installed, 0 to remove and 41 not upgraded.\n",
            "Need to get 75.4 MB of archives.\n",
            "After this operation, 255 MB of additional disk space will be used.\n",
            "Get:1 http://archive.ubuntu.com/ubuntu bionic/main amd64 binfmt-support amd64 2.1.8-2 [51.6 kB]\n",
            "Get:2 http://ppa.launchpad.net/sumo/stable/ubuntu bionic/main amd64 sumo amd64 1.9.2+dfsg1-1~bionic [13.7 MB]\n",
            "Get:3 http://archive.ubuntu.com/ubuntu bionic/universe amd64 fastjar amd64 2:0.98-6build1 [66.7 kB]\n",
            "Get:4 http://archive.ubuntu.com/ubuntu bionic-updates/universe amd64 jarwrapper all 0.72.1~18.04.1 [20.3 kB]\n",
            "Get:5 http://archive.ubuntu.com/ubuntu bionic/main amd64 javascript-common all 11 [6,066 B]\n",
            "Get:6 http://archive.ubuntu.com/ubuntu bionic/universe amd64 libfox-1.6-0 amd64 1.6.56-1 [875 kB]\n",
            "Get:7 http://archive.ubuntu.com/ubuntu bionic/main amd64 libjs-jquery all 3.2.1-1 [152 kB]\n",
            "Get:8 http://archive.ubuntu.com/ubuntu bionic-updates/main amd64 libjs-underscore all 1.8.3~dfsg-1ubuntu0.1 [60.4 kB]\n",
            "Get:9 http://archive.ubuntu.com/ubuntu bionic/universe amd64 libspatialindex4v5 amd64 1.8.5-5 [219 kB]\n",
            "Get:10 http://archive.ubuntu.com/ubuntu bionic/universe amd64 libspatialindex-c4v5 amd64 1.8.5-5 [51.7 kB]\n",
            "Get:11 http://archive.ubuntu.com/ubuntu bionic/main amd64 python3-pkg-resources all 39.0.1-2 [98.8 kB]\n",
            "Get:12 http://archive.ubuntu.com/ubuntu bionic/universe amd64 python3-pyproj amd64 1.9.5.1-3build1 [40.6 kB]\n",
            "Get:13 http://archive.ubuntu.com/ubuntu bionic/universe amd64 libspatialindex-dev amd64 1.8.5-5 [285 kB]\n",
            "Get:14 http://archive.ubuntu.com/ubuntu bionic/universe amd64 python3-rtree all 0.8.3+ds-1 [16.9 kB]\n",
            "Get:15 http://archive.ubuntu.com/ubuntu bionic/universe amd64 libjs-openlayers all 2.13.1+ds2-4 [704 kB]\n",
            "Get:16 http://ppa.launchpad.net/sumo/stable/ubuntu bionic/main amd64 sumo-doc all 1.9.2+dfsg1-1~bionic [37.8 MB]\n",
            "Get:17 http://ppa.launchpad.net/sumo/stable/ubuntu bionic/main amd64 sumo-tools all 1.9.2+dfsg1-1~bionic [21.2 MB]\n",
            "Fetched 75.4 MB in 4s (19.0 MB/s)\n",
            "Selecting previously unselected package binfmt-support.\n",
            "(Reading database ... 160837 files and directories currently installed.)\n",
            "Preparing to unpack .../00-binfmt-support_2.1.8-2_amd64.deb ...\n",
            "Unpacking binfmt-support (2.1.8-2) ...\n",
            "Selecting previously unselected package fastjar.\n",
            "Preparing to unpack .../01-fastjar_2%3a0.98-6build1_amd64.deb ...\n",
            "Unpacking fastjar (2:0.98-6build1) ...\n",
            "Selecting previously unselected package jarwrapper.\n",
            "Preparing to unpack .../02-jarwrapper_0.72.1~18.04.1_all.deb ...\n",
            "Unpacking jarwrapper (0.72.1~18.04.1) ...\n",
            "Selecting previously unselected package javascript-common.\n",
            "Preparing to unpack .../03-javascript-common_11_all.deb ...\n",
            "Unpacking javascript-common (11) ...\n",
            "Selecting previously unselected package libfox-1.6-0:amd64.\n",
            "Preparing to unpack .../04-libfox-1.6-0_1.6.56-1_amd64.deb ...\n",
            "Unpacking libfox-1.6-0:amd64 (1.6.56-1) ...\n",
            "Selecting previously unselected package libjs-jquery.\n",
            "Preparing to unpack .../05-libjs-jquery_3.2.1-1_all.deb ...\n",
            "Unpacking libjs-jquery (3.2.1-1) ...\n",
            "Selecting previously unselected package libjs-underscore.\n",
            "Preparing to unpack .../06-libjs-underscore_1.8.3~dfsg-1ubuntu0.1_all.deb ...\n",
            "Unpacking libjs-underscore (1.8.3~dfsg-1ubuntu0.1) ...\n",
            "Selecting previously unselected package libspatialindex4v5:amd64.\n",
            "Preparing to unpack .../07-libspatialindex4v5_1.8.5-5_amd64.deb ...\n",
            "Unpacking libspatialindex4v5:amd64 (1.8.5-5) ...\n",
            "Selecting previously unselected package libspatialindex-c4v5:amd64.\n",
            "Preparing to unpack .../08-libspatialindex-c4v5_1.8.5-5_amd64.deb ...\n",
            "Unpacking libspatialindex-c4v5:amd64 (1.8.5-5) ...\n",
            "Selecting previously unselected package python3-pkg-resources.\n",
            "Preparing to unpack .../09-python3-pkg-resources_39.0.1-2_all.deb ...\n",
            "Unpacking python3-pkg-resources (39.0.1-2) ...\n",
            "Selecting previously unselected package python3-pyproj.\n",
            "Preparing to unpack .../10-python3-pyproj_1.9.5.1-3build1_amd64.deb ...\n",
            "Unpacking python3-pyproj (1.9.5.1-3build1) ...\n",
            "Selecting previously unselected package libspatialindex-dev:amd64.\n",
            "Preparing to unpack .../11-libspatialindex-dev_1.8.5-5_amd64.deb ...\n",
            "Unpacking libspatialindex-dev:amd64 (1.8.5-5) ...\n",
            "Selecting previously unselected package python3-rtree.\n",
            "Preparing to unpack .../12-python3-rtree_0.8.3+ds-1_all.deb ...\n",
            "Unpacking python3-rtree (0.8.3+ds-1) ...\n",
            "Selecting previously unselected package sumo.\n",
            "Preparing to unpack .../13-sumo_1.9.2+dfsg1-1~bionic_amd64.deb ...\n",
            "Unpacking sumo (1.9.2+dfsg1-1~bionic) ...\n",
            "Selecting previously unselected package sumo-doc.\n",
            "Preparing to unpack .../14-sumo-doc_1.9.2+dfsg1-1~bionic_all.deb ...\n",
            "Unpacking sumo-doc (1.9.2+dfsg1-1~bionic) ...\n",
            "Selecting previously unselected package libjs-openlayers.\n",
            "Preparing to unpack .../15-libjs-openlayers_2.13.1+ds2-4_all.deb ...\n",
            "Unpacking libjs-openlayers (2.13.1+ds2-4) ...\n",
            "Selecting previously unselected package sumo-tools.\n",
            "Preparing to unpack .../16-sumo-tools_1.9.2+dfsg1-1~bionic_all.deb ...\n",
            "Unpacking sumo-tools (1.9.2+dfsg1-1~bionic) ...\n",
            "Setting up libjs-jquery (3.2.1-1) ...\n",
            "Setting up binfmt-support (2.1.8-2) ...\n",
            "Created symlink /etc/systemd/system/multi-user.target.wants/binfmt-support.service → /lib/systemd/system/binfmt-support.service.\n",
            "invoke-rc.d: could not determine current runlevel\n",
            "invoke-rc.d: policy-rc.d denied execution of start.\n",
            "Setting up libspatialindex4v5:amd64 (1.8.5-5) ...\n",
            "Setting up libfox-1.6-0:amd64 (1.6.56-1) ...\n",
            "Setting up libjs-underscore (1.8.3~dfsg-1ubuntu0.1) ...\n",
            "Setting up fastjar (2:0.98-6build1) ...\n",
            "Setting up libjs-openlayers (2.13.1+ds2-4) ...\n",
            "Setting up python3-pkg-resources (39.0.1-2) ...\n",
            "Setting up sumo (1.9.2+dfsg1-1~bionic) ...\n",
            "Setting up libspatialindex-c4v5:amd64 (1.8.5-5) ...\n",
            "Setting up python3-pyproj (1.9.5.1-3build1) ...\n",
            "Setting up javascript-common (11) ...\n",
            "Setting up jarwrapper (0.72.1~18.04.1) ...\n",
            "Setting up sumo-doc (1.9.2+dfsg1-1~bionic) ...\n",
            "Setting up libspatialindex-dev:amd64 (1.8.5-5) ...\n",
            "Setting up python3-rtree (0.8.3+ds-1) ...\n",
            "Setting up sumo-tools (1.9.2+dfsg1-1~bionic) ...\n",
            "Processing triggers for systemd (237-3ubuntu10.48) ...\n",
            "Processing triggers for man-db (2.8.3-2ubuntu0.1) ...\n",
            "Processing triggers for mime-support (3.60ubuntu1) ...\n",
            "Processing triggers for libc-bin (2.27-3ubuntu1.2) ...\n",
            "/sbin/ldconfig.real: /usr/local/lib/python3.7/dist-packages/ideep4py/lib/libmkldnn.so.0 is not a symbolic link\n",
            "\n",
            "Collecting traci\n",
            "\u001b[?25l  Downloading https://files.pythonhosted.org/packages/fe/61/c0ab67e2abc7915388b1e8c79d41869300b6dd49e491dfce5a4f816e08c4/traci-1.9.2-py3-none-any.whl (231kB)\n",
            "\u001b[K     |████████████████████████████████| 235kB 28.2MB/s \n",
            "\u001b[?25hCollecting sumolib>=1.9.2\n",
            "\u001b[?25l  Downloading https://files.pythonhosted.org/packages/43/f0/ac3622ec3a71b9066b03e94feaf4fcab2d0abd316e6ddd9d94cfe29815ee/sumolib-1.9.2-py3-none-any.whl (144kB)\n",
            "\u001b[K     |████████████████████████████████| 153kB 42.6MB/s \n",
            "\u001b[?25hInstalling collected packages: sumolib, traci\n",
            "Successfully installed sumolib-1.9.2 traci-1.9.2\n",
            "Collecting neat-python\n",
            "\u001b[?25l  Downloading https://files.pythonhosted.org/packages/96/6f/e7074d9c869174c9b7379bd5820f8a774382937053a92c024f0a159e3e05/neat_python-0.92-py3-none-any.whl (44kB)\n",
            "\u001b[K     |████████████████████████████████| 51kB 7.8MB/s \n",
            "\u001b[?25hInstalling collected packages: neat-python\n",
            "Successfully installed neat-python-0.92\n"
          ],
          "name": "stdout"
        }
      ]
    },
    {
      "cell_type": "code",
      "metadata": {
        "colab": {
          "base_uri": "https://localhost:8080/"
        },
        "id": "VyZhXa-Nhm4V",
        "outputId": "85789392-daab-476f-bfc2-4ddf5dd82ca5"
      },
      "source": [
        "%%bash\n",
        "TORCH=1.9.0\n",
        "CUDA=cu102\n",
        "pip install torch-scatter --no-cache-dir --no-index --find-links https://pytorch-geometric.com/whl/torch-${TORCH}+${CUDA}.html\n",
        "pip install torch-sparse --no-cache-dir --no-index --find-links https://pytorch-geometric.com/whl/torch-${TORCH}+${CUDA}.html\n",
        "pip install torch-cluster --no-cache-dir --no-index --find-links https://pytorch-geometric.com/whl/torch-${TORCH}+${CUDA}.html\n",
        "pip install torch-spline-conv --no-cache-dir --no-index --find-links https://pytorch-geometric.com/whl/torch-${TORCH}+${CUDA}.html\n",
        "pip install torch-geometric --no-cache-dir"
      ],
      "execution_count": 4,
      "outputs": [
        {
          "output_type": "stream",
          "text": [
            "Looking in links: https://pytorch-geometric.com/whl/torch-1.9.0+cu102.html\n",
            "Collecting torch-scatter\n",
            "  Downloading https://pytorch-geometric.com/whl/torch-1.9.0%2Bcu102/torch_scatter-2.0.7-cp37-cp37m-linux_x86_64.whl (2.6MB)\n",
            "Installing collected packages: torch-scatter\n",
            "Successfully installed torch-scatter-2.0.7\n",
            "Looking in links: https://pytorch-geometric.com/whl/torch-1.9.0+cu102.html\n",
            "Collecting torch-sparse\n",
            "  Downloading https://pytorch-geometric.com/whl/torch-1.9.0%2Bcu102/torch_sparse-0.6.10-cp37-cp37m-linux_x86_64.whl (1.4MB)\n",
            "Requirement already satisfied: scipy in /usr/local/lib/python3.7/dist-packages (from torch-sparse) (1.4.1)\n",
            "Requirement already satisfied: numpy>=1.13.3 in /usr/local/lib/python3.7/dist-packages (from scipy->torch-sparse) (1.19.5)\n",
            "Installing collected packages: torch-sparse\n",
            "Successfully installed torch-sparse-0.6.10\n",
            "Looking in links: https://pytorch-geometric.com/whl/torch-1.9.0+cu102.html\n",
            "Collecting torch-cluster\n",
            "  Downloading https://pytorch-geometric.com/whl/torch-1.9.0%2Bcu102/torch_cluster-1.5.9-cp37-cp37m-linux_x86_64.whl (926kB)\n",
            "Installing collected packages: torch-cluster\n",
            "Successfully installed torch-cluster-1.5.9\n",
            "Looking in links: https://pytorch-geometric.com/whl/torch-1.9.0+cu102.html\n",
            "Collecting torch-spline-conv\n",
            "  Downloading https://pytorch-geometric.com/whl/torch-1.9.0%2Bcu102/torch_spline_conv-1.2.1-cp37-cp37m-linux_x86_64.whl (382kB)\n",
            "Installing collected packages: torch-spline-conv\n",
            "Successfully installed torch-spline-conv-1.2.1\n",
            "Collecting torch-geometric\n",
            "  Downloading https://files.pythonhosted.org/packages/91/61/b3f23832120c404673f6759008312ffe8269524a29bf6116d9980e44517b/torch_geometric-1.7.2.tar.gz (222kB)\n",
            "Requirement already satisfied: numpy in /usr/local/lib/python3.7/dist-packages (from torch-geometric) (1.19.5)\n",
            "Requirement already satisfied: tqdm in /usr/local/lib/python3.7/dist-packages (from torch-geometric) (4.41.1)\n",
            "Requirement already satisfied: scipy in /usr/local/lib/python3.7/dist-packages (from torch-geometric) (1.4.1)\n",
            "Requirement already satisfied: networkx in /usr/local/lib/python3.7/dist-packages (from torch-geometric) (2.5.1)\n",
            "Requirement already satisfied: python-louvain in /usr/local/lib/python3.7/dist-packages (from torch-geometric) (0.15)\n",
            "Requirement already satisfied: scikit-learn in /usr/local/lib/python3.7/dist-packages (from torch-geometric) (0.22.2.post1)\n",
            "Requirement already satisfied: requests in /usr/local/lib/python3.7/dist-packages (from torch-geometric) (2.23.0)\n",
            "Requirement already satisfied: pandas in /usr/local/lib/python3.7/dist-packages (from torch-geometric) (1.1.5)\n",
            "Collecting rdflib\n",
            "  Downloading https://files.pythonhosted.org/packages/d0/6b/6454aa1db753c0f8bc265a5bd5c10b5721a4bb24160fb4faf758cf6be8a1/rdflib-5.0.0-py3-none-any.whl (231kB)\n",
            "Requirement already satisfied: googledrivedownloader in /usr/local/lib/python3.7/dist-packages (from torch-geometric) (0.4)\n",
            "Requirement already satisfied: jinja2 in /usr/local/lib/python3.7/dist-packages (from torch-geometric) (2.11.3)\n",
            "Requirement already satisfied: pyparsing in /usr/local/lib/python3.7/dist-packages (from torch-geometric) (2.4.7)\n",
            "Requirement already satisfied: decorator<5,>=4.3 in /usr/local/lib/python3.7/dist-packages (from networkx->torch-geometric) (4.4.2)\n",
            "Requirement already satisfied: joblib>=0.11 in /usr/local/lib/python3.7/dist-packages (from scikit-learn->torch-geometric) (1.0.1)\n",
            "Requirement already satisfied: idna<3,>=2.5 in /usr/local/lib/python3.7/dist-packages (from requests->torch-geometric) (2.10)\n",
            "Requirement already satisfied: certifi>=2017.4.17 in /usr/local/lib/python3.7/dist-packages (from requests->torch-geometric) (2021.5.30)\n",
            "Requirement already satisfied: chardet<4,>=3.0.2 in /usr/local/lib/python3.7/dist-packages (from requests->torch-geometric) (3.0.4)\n",
            "Requirement already satisfied: urllib3!=1.25.0,!=1.25.1,<1.26,>=1.21.1 in /usr/local/lib/python3.7/dist-packages (from requests->torch-geometric) (1.24.3)\n",
            "Requirement already satisfied: pytz>=2017.2 in /usr/local/lib/python3.7/dist-packages (from pandas->torch-geometric) (2018.9)\n",
            "Requirement already satisfied: python-dateutil>=2.7.3 in /usr/local/lib/python3.7/dist-packages (from pandas->torch-geometric) (2.8.1)\n",
            "Requirement already satisfied: six in /usr/local/lib/python3.7/dist-packages (from rdflib->torch-geometric) (1.15.0)\n",
            "Collecting isodate\n",
            "  Downloading https://files.pythonhosted.org/packages/9b/9f/b36f7774ff5ea8e428fdcfc4bb332c39ee5b9362ddd3d40d9516a55221b2/isodate-0.6.0-py2.py3-none-any.whl (45kB)\n",
            "Requirement already satisfied: MarkupSafe>=0.23 in /usr/local/lib/python3.7/dist-packages (from jinja2->torch-geometric) (2.0.1)\n",
            "Building wheels for collected packages: torch-geometric\n",
            "  Building wheel for torch-geometric (setup.py): started\n",
            "  Building wheel for torch-geometric (setup.py): finished with status 'done'\n",
            "  Created wheel for torch-geometric: filename=torch_geometric-1.7.2-cp37-none-any.whl size=388143 sha256=8f20ff92c9cd1fbe563e4fd36ed9983e373a6388e697dc61405092c1d246fc3a\n",
            "  Stored in directory: /tmp/pip-ephem-wheel-cache-vdsrh541/wheels/e7/66/5b/ad17ef7f04b7c425dc6930daac160c3747231b0d65f9ac7972\n",
            "Successfully built torch-geometric\n",
            "Installing collected packages: isodate, rdflib, torch-geometric\n",
            "Successfully installed isodate-0.6.0 rdflib-5.0.0 torch-geometric-1.7.2\n"
          ],
          "name": "stdout"
        }
      ]
    },
    {
      "cell_type": "code",
      "metadata": {
        "colab": {
          "base_uri": "https://localhost:8080/"
        },
        "id": "2b-dkRLDaH0g",
        "outputId": "2a445c2e-2160-430a-ff3d-1fef96b2e8d0"
      },
      "source": [
        "cd traffree/src/"
      ],
      "execution_count": 5,
      "outputs": [
        {
          "output_type": "stream",
          "text": [
            "/content/traffree/src\n"
          ],
          "name": "stdout"
        }
      ]
    },
    {
      "cell_type": "code",
      "metadata": {
        "colab": {
          "base_uri": "https://localhost:8080/"
        },
        "id": "pmP96SVqCa5o",
        "outputId": "6309f791-2c76-48f0-b28b-1ea4ffccb238"
      },
      "source": [
        "from google.colab import drive\n",
        "drive.mount('/content/drive') "
      ],
      "execution_count": 6,
      "outputs": [
        {
          "output_type": "stream",
          "text": [
            "Mounted at /content/drive\n"
          ],
          "name": "stdout"
        }
      ]
    },
    {
      "cell_type": "code",
      "metadata": {
        "id": "0918Qgw5ODnN"
      },
      "source": [
        "import torch\n",
        "from GNN_training import train_gnn_model_offline\n",
        "import traci"
      ],
      "execution_count": 7,
      "outputs": []
    },
    {
      "cell_type": "code",
      "metadata": {
        "id": "Lkb51FCvGqvF",
        "colab": {
          "base_uri": "https://localhost:8080/"
        },
        "outputId": "006ea5ea-0d2a-4691-9cd4-d1d0e0589d42"
      },
      "source": [
        "device = torch.device('cuda' if torch.cuda.is_available() else 'cpu')\n",
        "device"
      ],
      "execution_count": 8,
      "outputs": [
        {
          "output_type": "execute_result",
          "data": {
            "text/plain": [
              "device(type='cuda')"
            ]
          },
          "metadata": {
            "tags": []
          },
          "execution_count": 8
        }
      ]
    },
    {
      "cell_type": "code",
      "metadata": {
        "id": "UlDImfcozoV5"
      },
      "source": [
        "train_gnn_model_offline(k=50, num_epochs=2500, validation_freq=3000, memory_path='../../drive/MyDrive/TRAFFREE/medium_rand_memory/memory_combined.pkl', net_file=\"scenarios/medium_rand/u_map.net.xml\")\n"
      ],
      "execution_count": null,
      "outputs": []
    },
    {
      "cell_type": "code",
      "metadata": {
        "colab": {
          "base_uri": "https://localhost:8080/"
        },
        "id": "GG24NkRVD2LU",
        "outputId": "d29340e5-d4f2-42fd-fdd0-9d504e27eee0"
      },
      "source": [
        "!python3 main.py scenarios/medium_rand/light/u_rand.sumocfg MultiDetectorGNNScheduler saved_models/GNN/multi_GNN_offline_demo.pt scenarios/medium_rand/u_map.net.xml --nogui"
      ],
      "execution_count": 11,
      "outputs": [
        {
          "output_type": "stream",
          "text": [
            " Retrying in 1 seconds\n",
            "Loading configuration ... done.\n",
            "Warning: Vehicle '78' performs emergency braking with decel=-9.00 wished=4.50 severity=1.00, time=87.00.\n",
            "Warning: Vehicle '78' performs emergency stop at the end of lane '2147_1' because of a red traffic light (decel=-13.68, offset=4.08), time=87.00.\n",
            "Warning: Vehicle '305' performs emergency braking with decel=-9.00 wished=4.50 severity=1.00, time=247.00.\n",
            "Warning: Vehicle '305' performs emergency stop at the end of lane '230_1' because of a red traffic light (decel=-10.22, offset=0.72), time=247.00.\n",
            "Warning: Vehicle '289' performs emergency braking with decel=-9.00 wished=4.50 severity=1.00, time=307.00.\n",
            "Warning: Vehicle '677' performs emergency braking with decel=-9.00 wished=4.50 severity=1.00, time=507.00.\n",
            "Warning: Vehicle '677' performs emergency stop at the end of lane '1171_1' because of a red traffic light (decel=-14.49, offset=2.95), time=507.00.\n",
            "Warning: Vehicle '388' performs emergency braking with decel=-9.00 wished=4.50 severity=1.00, time=547.00.\n",
            "Warning: Vehicle '388' performs emergency stop at the end of lane 'gneE33_1' because of a red traffic light (decel=-14.08, offset=4.89), time=547.00.\n",
            "Warning: Vehicle '790' performs emergency braking with decel=-9.00 wished=4.50 severity=1.00, time=607.00.\n",
            "Warning: Vehicle '790' performs emergency stop at the end of lane '323_1' because of a red traffic light (decel=-12.84, offset=2.97), time=607.00.\n",
            "Warning: Vehicle '1043' performs emergency braking with decel=-9.00 wished=4.50 severity=1.00, time=887.00.\n",
            "Warning: Vehicle '1043' performs emergency stop at the end of lane '226_1' because of a red traffic light (decel=-13.17, offset=4.17), time=887.00.\n",
            "Warning: Vehicle '708' performs emergency braking with decel=-9.00 wished=4.50 severity=1.00, time=907.00.\n",
            "Warning: Vehicle '708' performs emergency stop at the end of lane '2403_1' because of a red traffic light (decel=-12.26, offset=3.26), time=907.00.\n",
            "Warning: Vehicle '1052' performs emergency braking with decel=-9.00 wished=4.50 severity=1.00, time=1047.00.\n",
            "Warning: Vehicle '1677' performs emergency braking with decel=-9.00 wished=4.50 severity=1.00, time=1207.00.\n",
            "Warning: Vehicle '1677' performs emergency stop at the end of lane '864_1' because of a red traffic light (decel=-11.42, offset=2.33), time=1207.00.\n",
            "Warning: Vehicle '1703' performs emergency braking with decel=-9.00 wished=4.50 severity=1.00, time=1227.00.\n",
            "Warning: Vehicle '1703' performs emergency stop at the end of lane '1171_1' because of a red traffic light (decel=-14.23, offset=5.23), time=1227.00.\n",
            "Warning: Vehicle '1901' performs emergency braking with decel=-9.00 wished=4.50 severity=1.00, time=1367.00.\n",
            "Warning: Vehicle '1901' performs emergency stop at the end of lane '362_1' because of a red traffic light (decel=-11.61, offset=2.48), time=1367.00.\n",
            "Warning: Vehicle '1905' performs emergency braking with decel=-9.00 wished=4.50 severity=1.00, time=1367.00.\n",
            "Warning: Vehicle '1905' performs emergency stop at the end of lane '75_1' because of a red traffic light (decel=-12.78, offset=2.59), time=1367.00.\n",
            "Warning: Vehicle '1929' performs emergency braking with decel=-9.00 wished=4.50 severity=1.00, time=1567.00.\n",
            "Warning: Vehicle '1929' performs emergency stop at the end of lane '1037_0' because of a red traffic light (decel=-10.62, offset=1.62), time=1567.00.\n",
            "Warning: Vehicle '1567' performs emergency braking with decel=-9.00 wished=4.50 severity=1.00, time=1647.00.\n",
            "Warning: Vehicle '1567' performs emergency stop at the end of lane 'gneE24_1' because of a red traffic light (decel=-13.43, offset=3.99), time=1647.00.\n",
            "Warning: Vehicle '2160' performs emergency braking with decel=-9.00 wished=4.50 severity=1.00, time=1728.00.\n",
            "Warning: Vehicle '2160' performs emergency braking with decel=-9.00 wished=4.50 severity=1.00, time=1787.00.\n",
            "Warning: Vehicle '2160' performs emergency stop at the end of lane '882_1' because of a red traffic light (decel=-13.37, offset=4.37), time=1787.00.\n",
            "Warning: Vehicle '2477' performs emergency braking with decel=-9.00 wished=4.50 severity=1.00, time=1807.00.\n",
            "Warning: Vehicle '2477' performs emergency stop at the end of lane 'gneE20_0' because of a red traffic light (decel=-9.08, offset=0.08), time=1807.00.\n",
            "Warning: Vehicle '2148' performs emergency braking with decel=-9.00 wished=4.50 severity=1.00, time=1807.00.\n",
            "Warning: Vehicle '2148' performs emergency stop at the end of lane '639_1' because of a red traffic light (decel=-11.14, offset=1.47), time=1807.00.\n",
            "Warning: Vehicle '2744' performs emergency braking with decel=-9.00 wished=4.50 severity=1.00, time=2127.00.\n",
            "Warning: Vehicle '2744' performs emergency stop at the end of lane '362_1' because of a red traffic light (decel=-13.81, offset=4.81), time=2127.00.\n",
            "Warning: Vehicle '2643' performs emergency braking with decel=-9.00 wished=4.50 severity=1.00, time=2247.00.\n",
            "Step #3532.00 (1ms ~= 1000.00*RT, ~0.00UPS, TraCI: 0ms, vehicles TOT 2858 ACT 0 BUF 0)    \n",
            "Scheduler Type:  MultiDetectorGNNScheduler\n",
            "Waiting time statistics\n",
            "Max:  786.0\n",
            "Min:  0.0\n",
            "Avg:  92.30265920223933\n",
            "Waiting count statistics\n",
            "Max:  61.0\n",
            "Min:  0.0\n",
            "Avg:  8.170398880335899\n",
            "Stop time statistics\n",
            "Max:  0.0\n",
            "Min:  0.0\n",
            "Avg:  0.0\n",
            "Time loss statistics\n",
            "Max:  1410.21\n",
            "Min:  3.91\n",
            "Avg:  249.8143491952413\n",
            "Waiting time percentage statistics\n",
            "Max:  60.69364161849711\n",
            "Min:  0.0\n",
            "Avg:  14.785597270874554\n",
            "---------------------\n",
            "Simulation duration:  3531.0\n",
            "\n",
            "\n"
          ],
          "name": "stdout"
        }
      ]
    }
  ]
}