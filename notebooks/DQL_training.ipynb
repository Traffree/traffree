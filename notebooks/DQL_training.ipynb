{
  "nbformat": 4,
  "nbformat_minor": 0,
  "metadata": {
    "colab": {
      "name": "DQL_training.ipynb",
      "provenance": []
    },
    "kernelspec": {
      "name": "python3",
      "display_name": "Python 3"
    },
    "language_info": {
      "name": "python"
    }
  },
  "cells": [
    {
      "cell_type": "code",
      "metadata": {
        "colab": {
          "base_uri": "https://localhost:8080/"
        },
        "id": "dtQPNKDa8g6e",
        "outputId": "fb2aa319-021f-4ea9-8c29-7bb71c2293f1"
      },
      "source": [
        "!pwd\n",
        "!ls"
      ],
      "execution_count": 1,
      "outputs": [
        {
          "output_type": "stream",
          "text": [
            "/content\n",
            "sample_data\n"
          ],
          "name": "stdout"
        }
      ]
    },
    {
      "cell_type": "code",
      "metadata": {
        "colab": {
          "base_uri": "https://localhost:8080/"
        },
        "id": "Mnne4G3O8lmM",
        "outputId": "d23304ad-68ec-4a16-fd06-add5383f2c49"
      },
      "source": [
        "!git clone \"https://github.com/Traffree/traffree.git\""
      ],
      "execution_count": 2,
      "outputs": [
        {
          "output_type": "stream",
          "text": [
            "Cloning into 'traffree'...\n",
            "remote: Enumerating objects: 1186, done.\u001b[K\n",
            "remote: Counting objects: 100% (1186/1186), done.\u001b[K\n",
            "remote: Compressing objects: 100% (545/545), done.\u001b[K\n",
            "remote: Total 1186 (delta 887), reused 916 (delta 628), pack-reused 0\u001b[K\n",
            "Receiving objects: 100% (1186/1186), 31.67 MiB | 18.63 MiB/s, done.\n",
            "Resolving deltas: 100% (887/887), done.\n",
            "Checking out files: 100% (458/458), done.\n"
          ],
          "name": "stdout"
        }
      ]
    },
    {
      "cell_type": "code",
      "metadata": {
        "colab": {
          "base_uri": "https://localhost:8080/"
        },
        "id": "CkqQc_zM8zIB",
        "outputId": "f0e5fe3f-5c49-4fef-c719-d55d88372c71"
      },
      "source": [
        "import os\n",
        "\n",
        "!add-apt-repository ppa:sumo/stable -y\n",
        "!apt-get update -y\n",
        "!apt-get install sumo sumo-tools sumo-doc\n",
        "\n",
        "!pip install traci\n",
        "!pip install neat-python\n",
        "\n",
        "os.environ['SUMO_HOME'] = \"/usr/share/sumo/\""
      ],
      "execution_count": 3,
      "outputs": [
        {
          "output_type": "stream",
          "text": [
            "Get:1 https://cloud.r-project.org/bin/linux/ubuntu bionic-cran40/ InRelease [3,626 B]\n",
            "Ign:2 https://developer.download.nvidia.com/compute/cuda/repos/ubuntu1804/x86_64  InRelease\n",
            "Ign:3 https://developer.download.nvidia.com/compute/machine-learning/repos/ubuntu1804/x86_64  InRelease\n",
            "Hit:4 https://developer.download.nvidia.com/compute/cuda/repos/ubuntu1804/x86_64  Release\n",
            "Hit:5 https://developer.download.nvidia.com/compute/machine-learning/repos/ubuntu1804/x86_64  Release\n",
            "Get:6 http://ppa.launchpad.net/c2d4u.team/c2d4u4.0+/ubuntu bionic InRelease [15.9 kB]\n",
            "Get:7 http://security.ubuntu.com/ubuntu bionic-security InRelease [88.7 kB]\n",
            "Hit:9 http://archive.ubuntu.com/ubuntu bionic InRelease\n",
            "Get:11 http://archive.ubuntu.com/ubuntu bionic-updates InRelease [88.7 kB]\n",
            "Hit:12 http://ppa.launchpad.net/cran/libgit2/ubuntu bionic InRelease\n",
            "Hit:13 http://ppa.launchpad.net/deadsnakes/ppa/ubuntu bionic InRelease\n",
            "Get:14 http://archive.ubuntu.com/ubuntu bionic-backports InRelease [74.6 kB]\n",
            "Get:15 http://security.ubuntu.com/ubuntu bionic-security/main amd64 Packages [2,221 kB]\n",
            "Hit:16 http://ppa.launchpad.net/graphics-drivers/ppa/ubuntu bionic InRelease\n",
            "Get:17 http://archive.ubuntu.com/ubuntu bionic-updates/main amd64 Packages [2,658 kB]\n",
            "Get:18 http://ppa.launchpad.net/sumo/stable/ubuntu bionic InRelease [15.4 kB]\n",
            "Get:19 http://security.ubuntu.com/ubuntu bionic-security/universe amd64 Packages [1,418 kB]\n",
            "Get:20 http://ppa.launchpad.net/c2d4u.team/c2d4u4.0+/ubuntu bionic/main Sources [1,780 kB]\n",
            "Get:21 http://archive.ubuntu.com/ubuntu bionic-updates/universe amd64 Packages [2,188 kB]\n",
            "Get:22 http://ppa.launchpad.net/c2d4u.team/c2d4u4.0+/ubuntu bionic/main amd64 Packages [911 kB]\n",
            "Get:23 http://ppa.launchpad.net/sumo/stable/ubuntu bionic/main amd64 Packages [1,156 B]\n",
            "Fetched 11.5 MB in 7s (1,624 kB/s)\n",
            "Reading package lists... Done\n",
            "Hit:1 https://cloud.r-project.org/bin/linux/ubuntu bionic-cran40/ InRelease\n",
            "Ign:2 https://developer.download.nvidia.com/compute/cuda/repos/ubuntu1804/x86_64  InRelease\n",
            "Hit:3 http://security.ubuntu.com/ubuntu bionic-security InRelease\n",
            "Ign:4 https://developer.download.nvidia.com/compute/machine-learning/repos/ubuntu1804/x86_64  InRelease\n",
            "Hit:5 https://developer.download.nvidia.com/compute/cuda/repos/ubuntu1804/x86_64  Release\n",
            "Hit:6 https://developer.download.nvidia.com/compute/machine-learning/repos/ubuntu1804/x86_64  Release\n",
            "Hit:7 http://ppa.launchpad.net/c2d4u.team/c2d4u4.0+/ubuntu bionic InRelease\n",
            "Hit:8 http://archive.ubuntu.com/ubuntu bionic InRelease\n",
            "Hit:9 http://archive.ubuntu.com/ubuntu bionic-updates InRelease\n",
            "Hit:11 http://ppa.launchpad.net/cran/libgit2/ubuntu bionic InRelease\n",
            "Hit:12 http://archive.ubuntu.com/ubuntu bionic-backports InRelease\n",
            "Hit:14 http://ppa.launchpad.net/deadsnakes/ppa/ubuntu bionic InRelease\n",
            "Hit:15 http://ppa.launchpad.net/graphics-drivers/ppa/ubuntu bionic InRelease\n",
            "Hit:16 http://ppa.launchpad.net/sumo/stable/ubuntu bionic InRelease\n",
            "Reading package lists... Done\n",
            "Reading package lists... Done\n",
            "Building dependency tree       \n",
            "Reading state information... Done\n",
            "The following additional packages will be installed:\n",
            "  binfmt-support fastjar jarwrapper javascript-common libfox-1.6-0\n",
            "  libjs-jquery libjs-openlayers libjs-underscore libspatialindex-c4v5\n",
            "  libspatialindex-dev libspatialindex4v5 python3-pkg-resources python3-pyproj\n",
            "  python3-rtree\n",
            "Suggested packages:\n",
            "  apache2 | lighttpd | httpd python3-setuptools\n",
            "The following NEW packages will be installed:\n",
            "  binfmt-support fastjar jarwrapper javascript-common libfox-1.6-0\n",
            "  libjs-jquery libjs-openlayers libjs-underscore libspatialindex-c4v5\n",
            "  libspatialindex-dev libspatialindex4v5 python3-pkg-resources python3-pyproj\n",
            "  python3-rtree sumo sumo-doc sumo-tools\n",
            "0 upgraded, 17 newly installed, 0 to remove and 41 not upgraded.\n",
            "Need to get 75.4 MB of archives.\n",
            "After this operation, 255 MB of additional disk space will be used.\n",
            "Get:1 http://ppa.launchpad.net/sumo/stable/ubuntu bionic/main amd64 sumo amd64 1.9.2+dfsg1-1~bionic [13.7 MB]\n",
            "Get:2 http://archive.ubuntu.com/ubuntu bionic/main amd64 binfmt-support amd64 2.1.8-2 [51.6 kB]\n",
            "Get:3 http://archive.ubuntu.com/ubuntu bionic/universe amd64 fastjar amd64 2:0.98-6build1 [66.7 kB]\n",
            "Get:4 http://archive.ubuntu.com/ubuntu bionic-updates/universe amd64 jarwrapper all 0.72.1~18.04.1 [20.3 kB]\n",
            "Get:5 http://archive.ubuntu.com/ubuntu bionic/main amd64 javascript-common all 11 [6,066 B]\n",
            "Get:6 http://archive.ubuntu.com/ubuntu bionic/universe amd64 libfox-1.6-0 amd64 1.6.56-1 [875 kB]\n",
            "Get:7 http://archive.ubuntu.com/ubuntu bionic/main amd64 libjs-jquery all 3.2.1-1 [152 kB]\n",
            "Get:8 http://archive.ubuntu.com/ubuntu bionic-updates/main amd64 libjs-underscore all 1.8.3~dfsg-1ubuntu0.1 [60.4 kB]\n",
            "Get:9 http://archive.ubuntu.com/ubuntu bionic/universe amd64 libspatialindex4v5 amd64 1.8.5-5 [219 kB]\n",
            "Get:10 http://archive.ubuntu.com/ubuntu bionic/universe amd64 libspatialindex-c4v5 amd64 1.8.5-5 [51.7 kB]\n",
            "Get:11 http://archive.ubuntu.com/ubuntu bionic/main amd64 python3-pkg-resources all 39.0.1-2 [98.8 kB]\n",
            "Get:12 http://archive.ubuntu.com/ubuntu bionic/universe amd64 python3-pyproj amd64 1.9.5.1-3build1 [40.6 kB]\n",
            "Get:13 http://archive.ubuntu.com/ubuntu bionic/universe amd64 libspatialindex-dev amd64 1.8.5-5 [285 kB]\n",
            "Get:14 http://archive.ubuntu.com/ubuntu bionic/universe amd64 python3-rtree all 0.8.3+ds-1 [16.9 kB]\n",
            "Get:15 http://archive.ubuntu.com/ubuntu bionic/universe amd64 libjs-openlayers all 2.13.1+ds2-4 [704 kB]\n",
            "Get:16 http://ppa.launchpad.net/sumo/stable/ubuntu bionic/main amd64 sumo-doc all 1.9.2+dfsg1-1~bionic [37.8 MB]\n",
            "Get:17 http://ppa.launchpad.net/sumo/stable/ubuntu bionic/main amd64 sumo-tools all 1.9.2+dfsg1-1~bionic [21.2 MB]\n",
            "Fetched 75.4 MB in 12s (6,297 kB/s)\n",
            "Selecting previously unselected package binfmt-support.\n",
            "(Reading database ... 160837 files and directories currently installed.)\n",
            "Preparing to unpack .../00-binfmt-support_2.1.8-2_amd64.deb ...\n",
            "Unpacking binfmt-support (2.1.8-2) ...\n",
            "Selecting previously unselected package fastjar.\n",
            "Preparing to unpack .../01-fastjar_2%3a0.98-6build1_amd64.deb ...\n",
            "Unpacking fastjar (2:0.98-6build1) ...\n",
            "Selecting previously unselected package jarwrapper.\n",
            "Preparing to unpack .../02-jarwrapper_0.72.1~18.04.1_all.deb ...\n",
            "Unpacking jarwrapper (0.72.1~18.04.1) ...\n",
            "Selecting previously unselected package javascript-common.\n",
            "Preparing to unpack .../03-javascript-common_11_all.deb ...\n",
            "Unpacking javascript-common (11) ...\n",
            "Selecting previously unselected package libfox-1.6-0:amd64.\n",
            "Preparing to unpack .../04-libfox-1.6-0_1.6.56-1_amd64.deb ...\n",
            "Unpacking libfox-1.6-0:amd64 (1.6.56-1) ...\n",
            "Selecting previously unselected package libjs-jquery.\n",
            "Preparing to unpack .../05-libjs-jquery_3.2.1-1_all.deb ...\n",
            "Unpacking libjs-jquery (3.2.1-1) ...\n",
            "Selecting previously unselected package libjs-underscore.\n",
            "Preparing to unpack .../06-libjs-underscore_1.8.3~dfsg-1ubuntu0.1_all.deb ...\n",
            "Unpacking libjs-underscore (1.8.3~dfsg-1ubuntu0.1) ...\n",
            "Selecting previously unselected package libspatialindex4v5:amd64.\n",
            "Preparing to unpack .../07-libspatialindex4v5_1.8.5-5_amd64.deb ...\n",
            "Unpacking libspatialindex4v5:amd64 (1.8.5-5) ...\n",
            "Selecting previously unselected package libspatialindex-c4v5:amd64.\n",
            "Preparing to unpack .../08-libspatialindex-c4v5_1.8.5-5_amd64.deb ...\n",
            "Unpacking libspatialindex-c4v5:amd64 (1.8.5-5) ...\n",
            "Selecting previously unselected package python3-pkg-resources.\n",
            "Preparing to unpack .../09-python3-pkg-resources_39.0.1-2_all.deb ...\n",
            "Unpacking python3-pkg-resources (39.0.1-2) ...\n",
            "Selecting previously unselected package python3-pyproj.\n",
            "Preparing to unpack .../10-python3-pyproj_1.9.5.1-3build1_amd64.deb ...\n",
            "Unpacking python3-pyproj (1.9.5.1-3build1) ...\n",
            "Selecting previously unselected package libspatialindex-dev:amd64.\n",
            "Preparing to unpack .../11-libspatialindex-dev_1.8.5-5_amd64.deb ...\n",
            "Unpacking libspatialindex-dev:amd64 (1.8.5-5) ...\n",
            "Selecting previously unselected package python3-rtree.\n",
            "Preparing to unpack .../12-python3-rtree_0.8.3+ds-1_all.deb ...\n",
            "Unpacking python3-rtree (0.8.3+ds-1) ...\n",
            "Selecting previously unselected package sumo.\n",
            "Preparing to unpack .../13-sumo_1.9.2+dfsg1-1~bionic_amd64.deb ...\n",
            "Unpacking sumo (1.9.2+dfsg1-1~bionic) ...\n",
            "Selecting previously unselected package sumo-doc.\n",
            "Preparing to unpack .../14-sumo-doc_1.9.2+dfsg1-1~bionic_all.deb ...\n",
            "Unpacking sumo-doc (1.9.2+dfsg1-1~bionic) ...\n",
            "Selecting previously unselected package libjs-openlayers.\n",
            "Preparing to unpack .../15-libjs-openlayers_2.13.1+ds2-4_all.deb ...\n",
            "Unpacking libjs-openlayers (2.13.1+ds2-4) ...\n",
            "Selecting previously unselected package sumo-tools.\n",
            "Preparing to unpack .../16-sumo-tools_1.9.2+dfsg1-1~bionic_all.deb ...\n",
            "Unpacking sumo-tools (1.9.2+dfsg1-1~bionic) ...\n",
            "Setting up libjs-jquery (3.2.1-1) ...\n",
            "Setting up binfmt-support (2.1.8-2) ...\n",
            "Created symlink /etc/systemd/system/multi-user.target.wants/binfmt-support.service → /lib/systemd/system/binfmt-support.service.\n",
            "invoke-rc.d: could not determine current runlevel\n",
            "invoke-rc.d: policy-rc.d denied execution of start.\n",
            "Setting up libspatialindex4v5:amd64 (1.8.5-5) ...\n",
            "Setting up libfox-1.6-0:amd64 (1.6.56-1) ...\n",
            "Setting up libjs-underscore (1.8.3~dfsg-1ubuntu0.1) ...\n",
            "Setting up fastjar (2:0.98-6build1) ...\n",
            "Setting up libjs-openlayers (2.13.1+ds2-4) ...\n",
            "Setting up python3-pkg-resources (39.0.1-2) ...\n",
            "Setting up sumo (1.9.2+dfsg1-1~bionic) ...\n",
            "Setting up libspatialindex-c4v5:amd64 (1.8.5-5) ...\n",
            "Setting up python3-pyproj (1.9.5.1-3build1) ...\n",
            "Setting up javascript-common (11) ...\n",
            "Setting up jarwrapper (0.72.1~18.04.1) ...\n",
            "Setting up sumo-doc (1.9.2+dfsg1-1~bionic) ...\n",
            "Setting up libspatialindex-dev:amd64 (1.8.5-5) ...\n",
            "Setting up python3-rtree (0.8.3+ds-1) ...\n",
            "Setting up sumo-tools (1.9.2+dfsg1-1~bionic) ...\n",
            "Processing triggers for systemd (237-3ubuntu10.48) ...\n",
            "Processing triggers for man-db (2.8.3-2ubuntu0.1) ...\n",
            "Processing triggers for mime-support (3.60ubuntu1) ...\n",
            "Processing triggers for libc-bin (2.27-3ubuntu1.2) ...\n",
            "/sbin/ldconfig.real: /usr/local/lib/python3.7/dist-packages/ideep4py/lib/libmkldnn.so.0 is not a symbolic link\n",
            "\n",
            "Collecting traci\n",
            "\u001b[?25l  Downloading https://files.pythonhosted.org/packages/fe/61/c0ab67e2abc7915388b1e8c79d41869300b6dd49e491dfce5a4f816e08c4/traci-1.9.2-py3-none-any.whl (231kB)\n",
            "\u001b[K     |████████████████████████████████| 235kB 4.2MB/s \n",
            "\u001b[?25hCollecting sumolib>=1.9.2\n",
            "\u001b[?25l  Downloading https://files.pythonhosted.org/packages/43/f0/ac3622ec3a71b9066b03e94feaf4fcab2d0abd316e6ddd9d94cfe29815ee/sumolib-1.9.2-py3-none-any.whl (144kB)\n",
            "\u001b[K     |████████████████████████████████| 153kB 7.6MB/s \n",
            "\u001b[?25hInstalling collected packages: sumolib, traci\n",
            "Successfully installed sumolib-1.9.2 traci-1.9.2\n",
            "Collecting neat-python\n",
            "\u001b[?25l  Downloading https://files.pythonhosted.org/packages/96/6f/e7074d9c869174c9b7379bd5820f8a774382937053a92c024f0a159e3e05/neat_python-0.92-py3-none-any.whl (44kB)\n",
            "\u001b[K     |████████████████████████████████| 51kB 4.3MB/s \n",
            "\u001b[?25hInstalling collected packages: neat-python\n",
            "Successfully installed neat-python-0.92\n"
          ],
          "name": "stdout"
        }
      ]
    },
    {
      "cell_type": "code",
      "metadata": {
        "colab": {
          "base_uri": "https://localhost:8080/"
        },
        "id": "8vNujxX4811y",
        "outputId": "7c0bf655-3690-4550-815d-eb963f94330f"
      },
      "source": [
        "%%bash\n",
        "TORCH=1.9.0\n",
        "CUDA=cu102\n",
        "pip install torch-scatter --no-cache-dir --no-index --find-links https://pytorch-geometric.com/whl/torch-${TORCH}+${CUDA}.html\n",
        "pip install torch-sparse --no-cache-dir --no-index --find-links https://pytorch-geometric.com/whl/torch-${TORCH}+${CUDA}.html\n",
        "pip install torch-cluster --no-cache-dir --no-index --find-links https://pytorch-geometric.com/whl/torch-${TORCH}+${CUDA}.html\n",
        "pip install torch-spline-conv --no-cache-dir --no-index --find-links https://pytorch-geometric.com/whl/torch-${TORCH}+${CUDA}.html\n",
        "pip install torch-geometric --no-cache-dir"
      ],
      "execution_count": 4,
      "outputs": [
        {
          "output_type": "stream",
          "text": [
            "Looking in links: https://pytorch-geometric.com/whl/torch-1.9.0+cu102.html\n",
            "Collecting torch-scatter\n",
            "  Downloading https://pytorch-geometric.com/whl/torch-1.9.0%2Bcu102/torch_scatter-2.0.7-cp37-cp37m-linux_x86_64.whl (2.6MB)\n",
            "Installing collected packages: torch-scatter\n",
            "Successfully installed torch-scatter-2.0.7\n",
            "Looking in links: https://pytorch-geometric.com/whl/torch-1.9.0+cu102.html\n",
            "Collecting torch-sparse\n",
            "  Downloading https://pytorch-geometric.com/whl/torch-1.9.0%2Bcu102/torch_sparse-0.6.10-cp37-cp37m-linux_x86_64.whl (1.4MB)\n",
            "Requirement already satisfied: scipy in /usr/local/lib/python3.7/dist-packages (from torch-sparse) (1.4.1)\n",
            "Requirement already satisfied: numpy>=1.13.3 in /usr/local/lib/python3.7/dist-packages (from scipy->torch-sparse) (1.19.5)\n",
            "Installing collected packages: torch-sparse\n",
            "Successfully installed torch-sparse-0.6.10\n",
            "Looking in links: https://pytorch-geometric.com/whl/torch-1.9.0+cu102.html\n",
            "Collecting torch-cluster\n",
            "  Downloading https://pytorch-geometric.com/whl/torch-1.9.0%2Bcu102/torch_cluster-1.5.9-cp37-cp37m-linux_x86_64.whl (926kB)\n",
            "Installing collected packages: torch-cluster\n",
            "Successfully installed torch-cluster-1.5.9\n",
            "Looking in links: https://pytorch-geometric.com/whl/torch-1.9.0+cu102.html\n",
            "Collecting torch-spline-conv\n",
            "  Downloading https://pytorch-geometric.com/whl/torch-1.9.0%2Bcu102/torch_spline_conv-1.2.1-cp37-cp37m-linux_x86_64.whl (382kB)\n",
            "Installing collected packages: torch-spline-conv\n",
            "Successfully installed torch-spline-conv-1.2.1\n",
            "Collecting torch-geometric\n",
            "  Downloading https://files.pythonhosted.org/packages/91/61/b3f23832120c404673f6759008312ffe8269524a29bf6116d9980e44517b/torch_geometric-1.7.2.tar.gz (222kB)\n",
            "Requirement already satisfied: numpy in /usr/local/lib/python3.7/dist-packages (from torch-geometric) (1.19.5)\n",
            "Requirement already satisfied: tqdm in /usr/local/lib/python3.7/dist-packages (from torch-geometric) (4.41.1)\n",
            "Requirement already satisfied: scipy in /usr/local/lib/python3.7/dist-packages (from torch-geometric) (1.4.1)\n",
            "Requirement already satisfied: networkx in /usr/local/lib/python3.7/dist-packages (from torch-geometric) (2.5.1)\n",
            "Requirement already satisfied: python-louvain in /usr/local/lib/python3.7/dist-packages (from torch-geometric) (0.15)\n",
            "Requirement already satisfied: scikit-learn in /usr/local/lib/python3.7/dist-packages (from torch-geometric) (0.22.2.post1)\n",
            "Requirement already satisfied: requests in /usr/local/lib/python3.7/dist-packages (from torch-geometric) (2.23.0)\n",
            "Requirement already satisfied: pandas in /usr/local/lib/python3.7/dist-packages (from torch-geometric) (1.1.5)\n",
            "Collecting rdflib\n",
            "  Downloading https://files.pythonhosted.org/packages/d0/6b/6454aa1db753c0f8bc265a5bd5c10b5721a4bb24160fb4faf758cf6be8a1/rdflib-5.0.0-py3-none-any.whl (231kB)\n",
            "Requirement already satisfied: googledrivedownloader in /usr/local/lib/python3.7/dist-packages (from torch-geometric) (0.4)\n",
            "Requirement already satisfied: jinja2 in /usr/local/lib/python3.7/dist-packages (from torch-geometric) (2.11.3)\n",
            "Requirement already satisfied: pyparsing in /usr/local/lib/python3.7/dist-packages (from torch-geometric) (2.4.7)\n",
            "Requirement already satisfied: decorator<5,>=4.3 in /usr/local/lib/python3.7/dist-packages (from networkx->torch-geometric) (4.4.2)\n",
            "Requirement already satisfied: joblib>=0.11 in /usr/local/lib/python3.7/dist-packages (from scikit-learn->torch-geometric) (1.0.1)\n",
            "Requirement already satisfied: certifi>=2017.4.17 in /usr/local/lib/python3.7/dist-packages (from requests->torch-geometric) (2021.5.30)\n",
            "Requirement already satisfied: urllib3!=1.25.0,!=1.25.1,<1.26,>=1.21.1 in /usr/local/lib/python3.7/dist-packages (from requests->torch-geometric) (1.24.3)\n",
            "Requirement already satisfied: idna<3,>=2.5 in /usr/local/lib/python3.7/dist-packages (from requests->torch-geometric) (2.10)\n",
            "Requirement already satisfied: chardet<4,>=3.0.2 in /usr/local/lib/python3.7/dist-packages (from requests->torch-geometric) (3.0.4)\n",
            "Requirement already satisfied: pytz>=2017.2 in /usr/local/lib/python3.7/dist-packages (from pandas->torch-geometric) (2018.9)\n",
            "Requirement already satisfied: python-dateutil>=2.7.3 in /usr/local/lib/python3.7/dist-packages (from pandas->torch-geometric) (2.8.1)\n",
            "Requirement already satisfied: six in /usr/local/lib/python3.7/dist-packages (from rdflib->torch-geometric) (1.15.0)\n",
            "Collecting isodate\n",
            "  Downloading https://files.pythonhosted.org/packages/9b/9f/b36f7774ff5ea8e428fdcfc4bb332c39ee5b9362ddd3d40d9516a55221b2/isodate-0.6.0-py2.py3-none-any.whl (45kB)\n",
            "Requirement already satisfied: MarkupSafe>=0.23 in /usr/local/lib/python3.7/dist-packages (from jinja2->torch-geometric) (2.0.1)\n",
            "Building wheels for collected packages: torch-geometric\n",
            "  Building wheel for torch-geometric (setup.py): started\n",
            "  Building wheel for torch-geometric (setup.py): finished with status 'done'\n",
            "  Created wheel for torch-geometric: filename=torch_geometric-1.7.2-cp37-none-any.whl size=388143 sha256=55e0cd1033e336003bdb53408568c69edb39cd174ab688ecf9f7f62a7add2d35\n",
            "  Stored in directory: /tmp/pip-ephem-wheel-cache-y8702s4w/wheels/e7/66/5b/ad17ef7f04b7c425dc6930daac160c3747231b0d65f9ac7972\n",
            "Successfully built torch-geometric\n",
            "Installing collected packages: isodate, rdflib, torch-geometric\n",
            "Successfully installed isodate-0.6.0 rdflib-5.0.0 torch-geometric-1.7.2\n"
          ],
          "name": "stdout"
        }
      ]
    },
    {
      "cell_type": "code",
      "metadata": {
        "colab": {
          "base_uri": "https://localhost:8080/"
        },
        "id": "kzFOPoyE85Sb",
        "outputId": "7d6fd6f5-350d-4826-9253-28838029782f"
      },
      "source": [
        "cd traffree/src/"
      ],
      "execution_count": 5,
      "outputs": [
        {
          "output_type": "stream",
          "text": [
            "/content/traffree/src\n"
          ],
          "name": "stdout"
        }
      ]
    },
    {
      "cell_type": "code",
      "metadata": {
        "id": "LKOU4Jpp9Gcn"
      },
      "source": [
        "!python3 DQL_training.py scenarios/medium_grid/normal/u_config.sumocfg --multiple-detectors"
      ],
      "execution_count": null,
      "outputs": []
    },
    {
      "cell_type": "code",
      "metadata": {
        "colab": {
          "base_uri": "https://localhost:8080/"
        },
        "id": "jtllWGAn_lHt",
        "outputId": "653a197f-9a1b-43b5-d19c-361b25e348c1"
      },
      "source": [
        "!python3 main.py scenarios/medium_grid/normal/u_config.sumocfg MultiDetectorDQLScheduler saved_models/DQL/multi_DQL_17.07.2021-23:18.h5 --nogui"
      ],
      "execution_count": 9,
      "outputs": [
        {
          "output_type": "stream",
          "text": [
            " Retrying in 1 seconds\n",
            "Loading configuration ... done.\n",
            "Warning: Vehicle '3469' performs emergency braking with decel=-9.00 wished=4.50 severity=1.00, time=1087.00.\n",
            "Warning: Vehicle '3469' performs emergency stop at the end of lane 'B0C0_1' because of a red traffic light (decel=-11.11, offset=1.81), time=1087.00.\n",
            "Warning: Vehicle '3178' performs emergency braking with decel=-9.00 wished=4.50 severity=1.00, time=1155.00.\n",
            "Warning: Vehicle '4229' performs emergency braking with decel=-9.00 wished=4.50 severity=1.00, time=1327.00.\n",
            "Warning: Vehicle '3887' performs emergency braking with decel=-9.00 wished=4.50 severity=1.00, time=1467.00.\n",
            "Warning: Vehicle '3887' performs emergency stop at the end of lane 'C4B4_1' because of a red traffic light (decel=-11.28, offset=2.01), time=1467.00.\n",
            "Step #2365.00 (2ms ~= 500.00*RT, ~0.00UPS, TraCI: 0ms, vehicles TOT 6667 ACT 0 BUF 0)     \n",
            "Scheduler Type:  MultiDetectorDQLScheduler\n",
            "Waiting time statistics\n",
            "Max:  196.0\n",
            "Min:  0.0\n",
            "Avg:  49.02204889755512\n",
            "Waiting count statistics\n",
            "Max:  13.0\n",
            "Min:  0.0\n",
            "Avg:  4.276586170691465\n",
            "Stop time statistics\n",
            "Max:  0.0\n",
            "Min:  0.0\n",
            "Avg:  0.0\n",
            "Time loss statistics\n",
            "Max:  417.57\n",
            "Min:  9.23\n",
            "Avg:  153.8426743662813\n",
            "Waiting time percentage statistics\n",
            "Max:  47.686832740213525\n",
            "Min:  0.0\n",
            "Avg:  21.124184243161327\n",
            "---------------------\n",
            "Simulation duration:  2364.0\n",
            "\n",
            "\n"
          ],
          "name": "stdout"
        }
      ]
    }
  ]
}